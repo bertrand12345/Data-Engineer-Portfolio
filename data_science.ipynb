{
  "nbformat": 4,
  "nbformat_minor": 0,
  "metadata": {
    "colab": {
      "provenance": [],
      "authorship_tag": "ABX9TyPgKvoTUCvF1ZeHXTHnLaT4",
      "include_colab_link": true
    },
    "kernelspec": {
      "name": "python3",
      "display_name": "Python 3"
    },
    "language_info": {
      "name": "python"
    }
  },
  "cells": [
    {
      "cell_type": "markdown",
      "metadata": {
        "id": "view-in-github",
        "colab_type": "text"
      },
      "source": [
        "<a href=\"https://colab.research.google.com/github/bertrand12345/Data-Engineer-Portfolio/blob/main/data_science.ipynb\" target=\"_parent\"><img src=\"https://colab.research.google.com/assets/colab-badge.svg\" alt=\"Open In Colab\"/></a>"
      ]
    },
    {
      "cell_type": "code",
      "execution_count": null,
      "metadata": {
        "id": "yFxM8uc17jrq"
      },
      "outputs": [],
      "source": []
    },
    {
      "cell_type": "markdown",
      "source": [
        "# Ingest\n"
      ],
      "metadata": {
        "id": "LQcCccWs8U-Z"
      }
    },
    {
      "cell_type": "code",
      "source": [
        "import pandas as pd"
      ],
      "metadata": {
        "id": "mgvMFzJd8jC1"
      },
      "execution_count": null,
      "outputs": []
    },
    {
      "cell_type": "markdown",
      "source": [
        "# EDA"
      ],
      "metadata": {
        "id": "B6bfpcd38o1m"
      }
    },
    {
      "cell_type": "code",
      "source": [],
      "metadata": {
        "id": "w-8P7GM38rWj"
      },
      "execution_count": null,
      "outputs": []
    },
    {
      "cell_type": "markdown",
      "source": [
        "## Modeling"
      ],
      "metadata": {
        "id": "KNJGfIj58vvC"
      }
    },
    {
      "cell_type": "code",
      "source": [],
      "metadata": {
        "id": "eNhPFC3u8zfq"
      },
      "execution_count": null,
      "outputs": []
    },
    {
      "cell_type": "markdown",
      "source": [
        "### Compute"
      ],
      "metadata": {
        "id": "h5m0V6YA9rUc"
      }
    },
    {
      "cell_type": "code",
      "source": [],
      "metadata": {
        "id": "-pnNcHC49ypN"
      },
      "execution_count": null,
      "outputs": []
    },
    {
      "cell_type": "markdown",
      "source": [
        "# Conclusion"
      ],
      "metadata": {
        "id": "grY64dsR83ym"
      }
    },
    {
      "cell_type": "code",
      "source": [],
      "metadata": {
        "id": "jClSzDZs9BCH"
      },
      "execution_count": null,
      "outputs": []
    }
  ]
}